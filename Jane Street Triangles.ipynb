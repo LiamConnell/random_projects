{
 "cells": [
  {
   "cell_type": "code",
   "execution_count": 1,
   "metadata": {},
   "outputs": [],
   "source": [
    "import numpy as np"
   ]
  },
  {
   "cell_type": "code",
   "execution_count": 27,
   "metadata": {},
   "outputs": [],
   "source": [
    "def area_from_vecs(v1, v2):\n",
    "    if type(v1) != np.ndarray or v1.shape != (2,) or type(v2) != np.ndarray or v2.shape != (2,):\n",
    "        raise TypeError('v1, v2 must be 2d vectors')\n",
    "    \n",
    "    det = v1[0]*v2[1]  - v1[1]*v2[0]\n",
    "    area = np.abs(det)/2\n",
    "    return area"
   ]
  },
  {
   "cell_type": "code",
   "execution_count": 71,
   "metadata": {},
   "outputs": [],
   "source": [
    "def is_acute(v1,v2, verbose=False):\n",
    "    acutes = True\n",
    "    if angle(v1,v2) >= np.pi/2:\n",
    "        if verbose:\n",
    "            print('origin angle is not acute')\n",
    "        acutes = False\n",
    "    if angle(v1, v1-v2) >= np.pi/2:\n",
    "        if verbose:\n",
    "            print('v1 angle is not acute')\n",
    "        acutes = False\n",
    "    if angle(v2, v2-v1) >= np.pi/2:\n",
    "        if verbose:\n",
    "            print('v2 angle is not acute')\n",
    "        acutes = False\n",
    "    return acutes"
   ]
  },
  {
   "cell_type": "code",
   "execution_count": 34,
   "metadata": {},
   "outputs": [],
   "source": [
    "def magnitude(v):\n",
    "    sqs = []\n",
    "    for x in v:\n",
    "        sqs.append(x**2)\n",
    "    return np.sqrt(np.sum(sqs))"
   ]
  },
  {
   "cell_type": "code",
   "execution_count": 124,
   "metadata": {},
   "outputs": [],
   "source": [
    "def angle(v1,v2):\n",
    "    dot = np.dot(v1,v2)\n",
    "    cos_theta = dot/(magnitude(v1) * magnitude(v2))\n",
    "    if cos_theta > 1.0 + 1e-8 or cos_theta < -1.0 - 1e-8:\n",
    "        print('bad arccos')\n",
    "        print(cos_theta)\n",
    "        print(v1,v2)\n",
    "    return np.arccos(cos_theta)"
   ]
  },
  {
   "cell_type": "code",
   "execution_count": 91,
   "metadata": {},
   "outputs": [],
   "source": [
    "def get_angles(v1,v2):\n",
    "    origin = angle(v1,v2)\n",
    "    v1_angle = angle(v1,v1-v2)\n",
    "    v2_angle = angle(v2,v2-v1)\n",
    "    return [origin, v1_angle, v2_angle]"
   ]
  },
  {
   "cell_type": "code",
   "execution_count": 109,
   "metadata": {},
   "outputs": [],
   "source": [
    "from itertools import permutations\n",
    "def non_congruent(trilist):\n",
    "    final_vecs = []\n",
    "    non_cong = []\n",
    "    for vecs in trilist:\n",
    "        angles = get_angles(vecs[0], vecs[1])\n",
    "        add = True\n",
    "        for perm in permutations(angles):\n",
    "            if list(perm) in non_cong:\n",
    "                add = False\n",
    "        if add:\n",
    "            non_cong.append(angles)\n",
    "            final_vecs.append(vecs)\n",
    "    return final_vecs"
   ]
  },
  {
   "cell_type": "code",
   "execution_count": 125,
   "metadata": {},
   "outputs": [
    {
     "name": "stdout",
     "output_type": "stream",
     "text": [
      "i = 1\n",
      "area = 2\n",
      "1\n",
      "[[array([0, 2]), array([2, 1])]]\n",
      "\n",
      "i = 2\n",
      "area = 4\n",
      "3\n",
      "[[array([0, 4]), array([2, 1])], [array([0, 2]), array([4, 1])], [array([1, 3]), array([3, 1])]]\n",
      "\n",
      "i = 3\n",
      "area = 8\n"
     ]
    },
    {
     "name": "stderr",
     "output_type": "stream",
     "text": [
      "/Users/liam/anaconda3/lib/python3.6/site-packages/ipykernel_launcher.py:3: RuntimeWarning: invalid value encountered in true_divide\n",
      "  This is separate from the ipykernel package so we can avoid doing imports until\n",
      "/Users/liam/anaconda3/lib/python3.6/site-packages/ipykernel_launcher.py:8: RuntimeWarning: invalid value encountered in arccos\n",
      "  \n"
     ]
    },
    {
     "name": "stdout",
     "output_type": "stream",
     "text": [
      "7\n",
      "[[array([0, 4]), array([4, 1])], [array([0, 4]), array([4, 2])], [array([0, 2]), array([8, 1])], [array([1, 5]), array([4, 4])], [array([2, 5]), array([4, 2])], [array([2, 7]), array([4, 6])], [array([3, 5]), array([5, 3])]]\n",
      "\n"
     ]
    }
   ],
   "source": [
    "for i in range(1,4):\n",
    "    print('i = {}'.format(i))\n",
    "    area = 2**i\n",
    "    print('area = {}'.format(area))\n",
    "    tri = []\n",
    "    for x1 in range(area+1):\n",
    "        for x2 in range(area+1):\n",
    "            for y1 in range(area+1):\n",
    "                for y2 in range(area+1):\n",
    "                    \n",
    "                    v1 = np.array([x1,y1])\n",
    "                    v2 = np.array([x2,y2])\n",
    "                    if is_acute(v1,v2) and area_from_vecs(v1,v2) == area:\n",
    "                        tri.append([v1,v2])\n",
    "                        \n",
    "    #print(tri)\n",
    "    #print(len(tri))\n",
    "    nonc_tri = non_congruent(tri)\n",
    "    print(len(nonc_tri))\n",
    "    print(nonc_tri)\n",
    "\n",
    "    \n",
    "    print('')"
   ]
  }
 ],
 "metadata": {
  "kernelspec": {
   "display_name": "Python 3",
   "language": "python",
   "name": "python3"
  },
  "language_info": {
   "codemirror_mode": {
    "name": "ipython",
    "version": 3
   },
   "file_extension": ".py",
   "mimetype": "text/x-python",
   "name": "python",
   "nbconvert_exporter": "python",
   "pygments_lexer": "ipython3",
   "version": "3.6.1"
  }
 },
 "nbformat": 4,
 "nbformat_minor": 2
}
